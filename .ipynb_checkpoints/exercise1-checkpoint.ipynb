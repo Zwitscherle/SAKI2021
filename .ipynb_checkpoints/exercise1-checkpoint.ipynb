{
 "cells": [
  {
   "cell_type": "markdown",
   "id": "5ef2fd50-9900-4ed0-b3fc-b94f091274e9",
   "metadata": {},
   "source": [
    "Exercise 1 <br>\n",
    "0. Modul imports"
   ]
  },
  {
   "cell_type": "code",
   "execution_count": 75,
   "id": "be2a96cd-19da-4587-90da-fe23efa8837b",
   "metadata": {},
   "outputs": [],
   "source": [
    "import os\n",
    "import io\n",
    "import numpy as np\n",
    "import pandas as pd\n",
    "from pandas import DataFrame\n",
    "from sklearn.naive_bayes import GaussianNB\n",
    "from sklearn.feature_extraction.text import CountVectorizer\n",
    "# for bag of words don`t know if this is really needed yet\n",
    "# from nltk.corpus import stopwords"
   ]
  },
  {
   "cell_type": "markdown",
   "id": "f40fa5a4-312f-48d8-828c-88d0462b778d",
   "metadata": {},
   "source": [
    "1. Clean and prepare the given data"
   ]
  },
  {
   "cell_type": "code",
   "execution_count": 262,
   "id": "61c82ebd-c823-4ad2-ab17-c3f521a2d525",
   "metadata": {},
   "outputs": [
    {
     "data": {
      "text/html": [
       "<div>\n",
       "<style scoped>\n",
       "    .dataframe tbody tr th:only-of-type {\n",
       "        vertical-align: middle;\n",
       "    }\n",
       "\n",
       "    .dataframe tbody tr th {\n",
       "        vertical-align: top;\n",
       "    }\n",
       "\n",
       "    .dataframe thead th {\n",
       "        text-align: right;\n",
       "    }\n",
       "</style>\n",
       "<table border=\"1\" class=\"dataframe\">\n",
       "  <thead>\n",
       "    <tr style=\"text-align: right;\">\n",
       "      <th></th>\n",
       "      <th>Unnamed: 0</th>\n",
       "      <th>Auftragskonto</th>\n",
       "      <th>Buchungstag</th>\n",
       "      <th>Valutadatum</th>\n",
       "      <th>Buchungstext</th>\n",
       "      <th>Verwendungszweck</th>\n",
       "      <th>Beguenstigter/Zahlungspflichtiger</th>\n",
       "      <th>Kontonummer</th>\n",
       "      <th>BLZ</th>\n",
       "      <th>Betrag</th>\n",
       "      <th>Waehrung</th>\n",
       "      <th>label</th>\n",
       "    </tr>\n",
       "  </thead>\n",
       "  <tbody>\n",
       "    <tr>\n",
       "      <th>0</th>\n",
       "      <td>0</td>\n",
       "      <td>89990201.0</td>\n",
       "      <td>28.07.2016</td>\n",
       "      <td>28.07.2016</td>\n",
       "      <td>Lohn / Gehalt</td>\n",
       "      <td>Gehalt Adorsys GmbH &amp; Co. KG End-To-End-Ref.: ...</td>\n",
       "      <td>Adorsys GmbH &amp; Co. KG</td>\n",
       "      <td>7807800780</td>\n",
       "      <td>25190001</td>\n",
       "      <td>2000.00</td>\n",
       "      <td>EUR</td>\n",
       "      <td>income</td>\n",
       "    </tr>\n",
       "    <tr>\n",
       "      <th>1</th>\n",
       "      <td>1</td>\n",
       "      <td>89990201.0</td>\n",
       "      <td>27.07.2016</td>\n",
       "      <td>27.07.2016</td>\n",
       "      <td>Miete</td>\n",
       "      <td>Byladem1Sbt De12773501123456789889 Miete Beuth...</td>\n",
       "      <td>Georg Tasche</td>\n",
       "      <td>DE31251900019123456780</td>\n",
       "      <td>VOHADE2HXXX</td>\n",
       "      <td>-670.00</td>\n",
       "      <td>EUR</td>\n",
       "      <td>living</td>\n",
       "    </tr>\n",
       "    <tr>\n",
       "      <th>2</th>\n",
       "      <td>2</td>\n",
       "      <td>89990201.0</td>\n",
       "      <td>21.07.2016</td>\n",
       "      <td>21.07.2016</td>\n",
       "      <td>Bargeld</td>\n",
       "      <td>21.07/16.34Uhr Nuernberg All Eur 70,00 Geb.Eur...</td>\n",
       "      <td>Bargeld</td>\n",
       "      <td>9999900780</td>\n",
       "      <td>25190001</td>\n",
       "      <td>-70.00</td>\n",
       "      <td>EUR</td>\n",
       "      <td>private</td>\n",
       "    </tr>\n",
       "    <tr>\n",
       "      <th>3</th>\n",
       "      <td>3</td>\n",
       "      <td>89990201.0</td>\n",
       "      <td>20.07.2016</td>\n",
       "      <td>20.07.2016</td>\n",
       "      <td>Lebensmittel / Getraenke</td>\n",
       "      <td>2831 Edeka Neubauer Nuernb.//Nuernb 2016-07-20...</td>\n",
       "      <td>Kartenzahlung</td>\n",
       "      <td>9736000780</td>\n",
       "      <td>25190001</td>\n",
       "      <td>-73.21</td>\n",
       "      <td>EUR</td>\n",
       "      <td>standardOfLiving</td>\n",
       "    </tr>\n",
       "    <tr>\n",
       "      <th>4</th>\n",
       "      <td>4</td>\n",
       "      <td>89990201.0</td>\n",
       "      <td>18.07.2016</td>\n",
       "      <td>18.07.2016</td>\n",
       "      <td>Spontanausgabe</td>\n",
       "      <td>Amazon</td>\n",
       "      <td>neue Playstation</td>\n",
       "      <td>9988776655</td>\n",
       "      <td>25125100</td>\n",
       "      <td>-363</td>\n",
       "      <td>EUR</td>\n",
       "      <td>leisure</td>\n",
       "    </tr>\n",
       "  </tbody>\n",
       "</table>\n",
       "</div>"
      ],
      "text/plain": [
       "   Unnamed: 0  Auftragskonto Buchungstag Valutadatum  \\\n",
       "0           0     89990201.0  28.07.2016  28.07.2016   \n",
       "1           1     89990201.0  27.07.2016  27.07.2016   \n",
       "2           2     89990201.0  21.07.2016  21.07.2016   \n",
       "3           3     89990201.0  20.07.2016  20.07.2016   \n",
       "4           4     89990201.0  18.07.2016  18.07.2016   \n",
       "\n",
       "               Buchungstext  \\\n",
       "0             Lohn / Gehalt   \n",
       "1                     Miete   \n",
       "2                   Bargeld   \n",
       "3  Lebensmittel / Getraenke   \n",
       "4            Spontanausgabe   \n",
       "\n",
       "                                    Verwendungszweck  \\\n",
       "0  Gehalt Adorsys GmbH & Co. KG End-To-End-Ref.: ...   \n",
       "1  Byladem1Sbt De12773501123456789889 Miete Beuth...   \n",
       "2  21.07/16.34Uhr Nuernberg All Eur 70,00 Geb.Eur...   \n",
       "3  2831 Edeka Neubauer Nuernb.//Nuernb 2016-07-20...   \n",
       "4                                             Amazon   \n",
       "\n",
       "  Beguenstigter/Zahlungspflichtiger             Kontonummer          BLZ  \\\n",
       "0             Adorsys GmbH & Co. KG              7807800780     25190001   \n",
       "1                      Georg Tasche  DE31251900019123456780  VOHADE2HXXX   \n",
       "2                           Bargeld              9999900780     25190001   \n",
       "3                     Kartenzahlung              9736000780     25190001   \n",
       "4                  neue Playstation              9988776655     25125100   \n",
       "\n",
       "    Betrag Waehrung             label  \n",
       "0  2000.00      EUR            income  \n",
       "1  -670.00      EUR            living  \n",
       "2   -70.00      EUR           private  \n",
       "3   -73.21      EUR  standardOfLiving  \n",
       "4     -363      EUR           leisure  "
      ]
     },
     "execution_count": 262,
     "metadata": {},
     "output_type": "execute_result"
    }
   ],
   "source": [
    "# read the input data into a table\n",
    "df = pd.read_table('Data1.csv', sep=';')\n",
    "df.head()"
   ]
  },
  {
   "cell_type": "markdown",
   "id": "70d6181d-e596-462f-82f3-4378c6043138",
   "metadata": {},
   "source": [
    "2. Label and store the data"
   ]
  },
  {
   "cell_type": "code",
   "execution_count": 263,
   "id": "870641bc-0f1c-4627-8202-4d509d6c985c",
   "metadata": {},
   "outputs": [
    {
     "name": "stdout",
     "output_type": "stream",
     "text": [
      "0      0\n",
      "1      2\n",
      "2      1\n",
      "3      3\n",
      "4      6\n",
      "      ..\n",
      "204    4\n",
      "205    4\n",
      "206    0\n",
      "207    4\n",
      "208    6\n",
      "Name: label, Length: 209, dtype: int64\n"
     ]
    }
   ],
   "source": [
    "# Label input data with numeric values\n",
    "labels = df.label.map({'income': 0, 'private': 1,\n",
    "                           'living': 2, 'standardOfLiving': 3,\n",
    "                           'finance': 4, 'traffic': 5,\n",
    "                           'leisure': 6})"
   ]
  },
  {
   "cell_type": "markdown",
   "id": "fca66325-9281-40cb-96e9-43fdd6111622",
   "metadata": {},
   "source": [
    "3. Extract the relevant features. In this case I choose 'Buchungstag', 'Buchungstext', 'Verwendungszweck', 'Kontonummer', 'BLZ' and 'Betrag'"
   ]
  },
  {
   "cell_type": "code",
   "execution_count": 264,
   "id": "81361be8-d931-4a02-9db1-e29ccb5a47d7",
   "metadata": {},
   "outputs": [],
   "source": [
    "# get all relevant features\n",
    "features = df[['Buchungstag', 'Buchungstext', \n",
    "               'Verwendungszweck', 'Kontonummer',\n",
    "               'BLZ', 'Betrag']]"
   ]
  },
  {
   "cell_type": "markdown",
   "id": "d75ba23f-af9b-4fd2-99ee-13d2f22c1721",
   "metadata": {},
   "source": [
    "4. Prepare and transform the features so that we can work with them"
   ]
  },
  {
   "cell_type": "code",
   "execution_count": 265,
   "id": "f3660669-a7e9-4289-a529-9ecbc4683c43",
   "metadata": {},
   "outputs": [],
   "source": [
    "# first very simple approach with dummies\n",
    "features_dummy = pd.get_dummies(features)\n",
    "# TODO how to use multiple features\n",
    "# TODO Feature Buchungstag\n",
    "\n",
    "# TODO Feature Buchungstext\n",
    "\n",
    "\n",
    "\n",
    "# TODO Bag of words for Verwendungszweck\n",
    "use_case = df['Verwendungszweck']\n",
    "#print(use_case)\n",
    "count_vector = CountVectorizer()\n",
    "#print(count_vector)\n",
    "count_vector.fit(use_case)\n",
    "names = count_vector.get_feature_names()\n",
    "#print(words)\n",
    "\n",
    "# frequency matrix of the words\n",
    "#doc_array = count_vector.transform(use_case).toarray()\n",
    "# TODO frequency matrix not used currently...\n",
    "#frequency_matrix = pd.DataFrame(data=doc_array, columns=names)\n",
    "#print(frequency_matrix)\n",
    "# print(\"test\")\n",
    "# print(frequency_matrix['gehalt'])\n",
    "\n",
    "\n",
    "# TODO Feature Kontonummer\n",
    "\n",
    "# TODO Feature BLZ\n",
    "\n",
    "# TODO Features Betrag"
   ]
  },
  {
   "cell_type": "markdown",
   "id": "767e1ae4-9a03-4f59-9685-0d08e228478d",
   "metadata": {},
   "source": [
    "5. Train the model"
   ]
  },
  {
   "cell_type": "code",
   "execution_count": 266,
   "id": "be9e4341-bf86-4cfa-9bc1-31ef520ae469",
   "metadata": {},
   "outputs": [],
   "source": [
    "# TODO\n",
    "from sklearn.model_selection import train_test_split\n",
    "from sklearn.naive_bayes import MultinomialNB\n",
    "\n",
    "# TODO features as first parameter when transformed correctly\n",
    "# df['Verwendungszweck']\n",
    "#x_train, x_test, y_train, y_test = train_test_split(df['Verwendungszweck'], df['label'], random_state=1)\n",
    "\n",
    "# BoW test\n",
    "# fit training data and then return the matrix\n",
    "#training_data = count_vector.fit_transform(x_train)\n",
    "\n",
    "# transform testing data and return the matrix\n",
    "#testing_data = count_vector.transform(x_test)\n",
    "\n",
    "#classifier = MultinomialNB()\n",
    "#classifier.fit(training_data, y_train)\n",
    "\n",
    "# predict based on the data\n",
    "#predictions = classifier.predict(testing_data)\n",
    "\n",
    "# simple test:\n",
    "features_dummy = pd.get_dummies(features)\n",
    "x_train, x_test, y_train, y_test = train_test_split(features_dummy, labels, random_state=1)\n",
    "\n",
    "model = GaussianNB() # or  MultinomialNB() seems a bit better\n",
    "model.fit(x_train, y_train.values.ravel())\n",
    "\n",
    "predictions = model.predict(x_test)\n"
   ]
  },
  {
   "cell_type": "markdown",
   "id": "58c99319-9679-4aa5-aa24-c7dc4831357a",
   "metadata": {},
   "source": [
    "6. Evaluate the model"
   ]
  },
  {
   "cell_type": "code",
   "execution_count": 267,
   "id": "a70406ba-dfa4-459e-bbfa-23faa76e9179",
   "metadata": {},
   "outputs": [
    {
     "name": "stdout",
     "output_type": "stream",
     "text": [
      "Accuracy score:  0.9056603773584906\n",
      "Precision score:  0.9148322851153039\n",
      "Recall score:  0.9056603773584906\n",
      "F1 score:  0.9064406278557222\n",
      "[1.         0.85714286 0.69047619 0.76190476 1.        ]\n",
      "0.8619047619047618\n"
     ]
    }
   ],
   "source": [
    "# we evaluate the model with multiple metrics\n",
    "from sklearn.metrics import accuracy_score, precision_score, recall_score, f1_score\n",
    "\n",
    "print('Accuracy score: ', format(accuracy_score(y_test, predictions)))\n",
    "\n",
    "print('Precision score: ', format(precision_score(y_test, predictions, average='weighted')))\n",
    "\n",
    "print('Recall score: ', format(recall_score(y_test, predictions, average='weighted')))\n",
    "\n",
    "print('F1 score: ', format(f1_score(y_test, predictions, average='weighted')))\n",
    "\n",
    "# Cross validation\n",
    "from sklearn.model_selection import cross_val_score\n",
    "\n",
    "# TODO unsure if frequency_matrix is the correct paramter\n",
    "scores = cross_val_score(classifier, frequency_matrix, labels, cv=5)\n",
    "print(scores)\n",
    "print(scores.mean())"
   ]
  },
  {
   "cell_type": "markdown",
   "id": "24d217f8-0553-4082-829e-eed7343c1254",
   "metadata": {},
   "source": [
    "7. Visualize the results"
   ]
  },
  {
   "cell_type": "code",
   "execution_count": 287,
   "id": "ddfc2787-2385-4f49-9e76-c834f01bcc60",
   "metadata": {},
   "outputs": [
    {
     "data": {
      "image/png": "[encoded data removed]",
      "text/plain": [
       "<Figure size 432x288 with 2 Axes>"
      ]
     },
     "metadata": {
      "needs_background": "light"
     },
     "output_type": "display_data"
    }
   ],
   "source": [
    "# TODO\n",
    "import scikitplot as skplt\n",
    "import matplotlib.pyplot as plt\n",
    "\n",
    "# map back numeric to label\n",
    "label_to_text = {0: 'income', 1: 'private',\n",
    "                           2: 'living', 3 : 'standardOfLiving',\n",
    "                           4: 'finance', 5: 'traffic',\n",
    "                           6: 'leisure'}\n",
    "text_labels = y_test.map(label_to_text)\n",
    "text_predictions = pd.Series(predictions).map(label_to_text)\n",
    "\n",
    "# plot a confucsion matrix\n",
    "skplt.metrics.plot_confusion_matrix(text_labels, text_predictions, normalize=True)\n",
    "plt.show()"
   ]
  },
  {
   "cell_type": "code",
   "execution_count": null,
   "id": "c327a8af-ee7f-44d4-a5c7-b4ae1fe67e37",
   "metadata": {},
   "outputs": [],
   "source": []
  }
 ],
 "metadata": {
  "kernelspec": {
   "display_name": "Python 3",
   "language": "python",
   "name": "python3"
  },
  "language_info": {
   "codemirror_mode": {
    "name": "ipython",
    "version": 3
   },
   "file_extension": ".py",
   "mimetype": "text/x-python",
   "name": "python",
   "nbconvert_exporter": "python",
   "pygments_lexer": "ipython3",
   "version": "3.9.1"
  }
 },
 "nbformat": 4,
 "nbformat_minor": 5
}
