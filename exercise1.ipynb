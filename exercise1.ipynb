{
 "cells": [
  {
   "cell_type": "markdown",
   "id": "5ef2fd50-9900-4ed0-b3fc-b94f091274e9",
   "metadata": {},
   "source": [
    "This is exercise 1"
   ]
  },
  {
   "cell_type": "code",
   "execution_count": null,
   "id": "be2a96cd-19da-4587-90da-fe23efa8837b",
   "metadata": {},
   "outputs": [],
   "source": []
  }
 ],
 "metadata": {
  "kernelspec": {
   "display_name": "Python 3",
   "language": "python",
   "name": "python3"
  },
  "language_info": {
   "codemirror_mode": {
    "name": "ipython",
    "version": 3
   },
   "file_extension": ".py",
   "mimetype": "text/x-python",
   "name": "python",
   "nbconvert_exporter": "python",
   "pygments_lexer": "ipython3",
   "version": "3.9.1"
  }
 },
 "nbformat": 4,
 "nbformat_minor": 5
}
