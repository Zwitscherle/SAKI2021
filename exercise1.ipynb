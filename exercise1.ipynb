{
 "cells": [
  {
   "cell_type": "markdown",
   "id": "5ef2fd50-9900-4ed0-b3fc-b94f091274e9",
   "metadata": {},
   "source": [
    "Exercise 1 <br>\n",
    "0. Modul Imports"
   ]
  },
  {
   "cell_type": "code",
   "execution_count": 2,
   "id": "be2a96cd-19da-4587-90da-fe23efa8837b",
   "metadata": {},
   "outputs": [],
   "source": [
    "import os\n",
    "import io\n",
    "import math\n",
    "import numpy as np\n",
    "import pandas as pd\n",
    "from pandas import DataFrame\n",
    "from sklearn.naive_bayes import GaussianNB\n",
    "from sklearn.feature_extraction.text import CountVectorizer\n",
    "from sklearn.model_selection import train_test_split\n",
    "from sklearn.naive_bayes import MultinomialNB\n",
    "from sklearn.preprocessing import StandardScaler\n",
    "from sklearn.metrics import accuracy_score, precision_score, recall_score, f1_score\n",
    "from sklearn.model_selection import cross_val_score\n",
    "from sklearn.model_selection import ShuffleSplit\n",
    "import scikitplot as skplt\n",
    "import matplotlib.pyplot as plt"
   ]
  },
  {
   "cell_type": "markdown",
   "id": "f40fa5a4-312f-48d8-828c-88d0462b778d",
   "metadata": {},
   "source": [
    "1. Prepare the given data and store the labels"
   ]
  },
  {
   "cell_type": "code",
   "execution_count": 5,
   "id": "61c82ebd-c823-4ad2-ab17-c3f521a2d525",
   "metadata": {},
   "outputs": [
    {
     "data": {
      "text/html": [
       "<div>\n",
       "<style scoped>\n",
       "    .dataframe tbody tr th:only-of-type {\n",
       "        vertical-align: middle;\n",
       "    }\n",
       "\n",
       "    .dataframe tbody tr th {\n",
       "        vertical-align: top;\n",
       "    }\n",
       "\n",
       "    .dataframe thead th {\n",
       "        text-align: right;\n",
       "    }\n",
       "</style>\n",
       "<table border=\"1\" class=\"dataframe\">\n",
       "  <thead>\n",
       "    <tr style=\"text-align: right;\">\n",
       "      <th></th>\n",
       "      <th>Unnamed: 0</th>\n",
       "      <th>Auftragskonto</th>\n",
       "      <th>Buchungstag</th>\n",
       "      <th>Valutadatum</th>\n",
       "      <th>Buchungstext</th>\n",
       "      <th>Verwendungszweck</th>\n",
       "      <th>Beguenstigter/Zahlungspflichtiger</th>\n",
       "      <th>Kontonummer</th>\n",
       "      <th>BLZ</th>\n",
       "      <th>Betrag</th>\n",
       "      <th>Waehrung</th>\n",
       "      <th>label</th>\n",
       "    </tr>\n",
       "  </thead>\n",
       "  <tbody>\n",
       "    <tr>\n",
       "      <th>0</th>\n",
       "      <td>0</td>\n",
       "      <td>89990201.0</td>\n",
       "      <td>28.07.2016</td>\n",
       "      <td>28.07.2016</td>\n",
       "      <td>Lohn / Gehalt</td>\n",
       "      <td>Gehalt Adorsys GmbH &amp; Co. KG End-To-End-Ref.: ...</td>\n",
       "      <td>Adorsys GmbH &amp; Co. KG</td>\n",
       "      <td>7807800780</td>\n",
       "      <td>25190001</td>\n",
       "      <td>2000.00</td>\n",
       "      <td>EUR</td>\n",
       "      <td>income</td>\n",
       "    </tr>\n",
       "    <tr>\n",
       "      <th>1</th>\n",
       "      <td>1</td>\n",
       "      <td>89990201.0</td>\n",
       "      <td>27.07.2016</td>\n",
       "      <td>27.07.2016</td>\n",
       "      <td>Miete</td>\n",
       "      <td>Byladem1Sbt De12773501123456789889 Miete Beuth...</td>\n",
       "      <td>Georg Tasche</td>\n",
       "      <td>DE31251900019123456780</td>\n",
       "      <td>VOHADE2HXXX</td>\n",
       "      <td>-670.00</td>\n",
       "      <td>EUR</td>\n",
       "      <td>living</td>\n",
       "    </tr>\n",
       "    <tr>\n",
       "      <th>2</th>\n",
       "      <td>2</td>\n",
       "      <td>89990201.0</td>\n",
       "      <td>21.07.2016</td>\n",
       "      <td>21.07.2016</td>\n",
       "      <td>Bargeld</td>\n",
       "      <td>21.07/16.34Uhr Nuernberg All Eur 70,00 Geb.Eur...</td>\n",
       "      <td>Bargeld</td>\n",
       "      <td>9999900780</td>\n",
       "      <td>25190001</td>\n",
       "      <td>-70.00</td>\n",
       "      <td>EUR</td>\n",
       "      <td>private</td>\n",
       "    </tr>\n",
       "    <tr>\n",
       "      <th>3</th>\n",
       "      <td>3</td>\n",
       "      <td>89990201.0</td>\n",
       "      <td>20.07.2016</td>\n",
       "      <td>20.07.2016</td>\n",
       "      <td>Lebensmittel / Getraenke</td>\n",
       "      <td>2831 Edeka Neubauer Nuernb.//Nuernb 2016-07-20...</td>\n",
       "      <td>Kartenzahlung</td>\n",
       "      <td>9736000780</td>\n",
       "      <td>25190001</td>\n",
       "      <td>-73.21</td>\n",
       "      <td>EUR</td>\n",
       "      <td>standardOfLiving</td>\n",
       "    </tr>\n",
       "    <tr>\n",
       "      <th>4</th>\n",
       "      <td>4</td>\n",
       "      <td>89990201.0</td>\n",
       "      <td>18.07.2016</td>\n",
       "      <td>18.07.2016</td>\n",
       "      <td>Spontanausgabe</td>\n",
       "      <td>Amazon</td>\n",
       "      <td>neue Playstation</td>\n",
       "      <td>9988776655</td>\n",
       "      <td>25125100</td>\n",
       "      <td>-363</td>\n",
       "      <td>EUR</td>\n",
       "      <td>leisure</td>\n",
       "    </tr>\n",
       "  </tbody>\n",
       "</table>\n",
       "</div>"
      ],
      "text/plain": [
       "   Unnamed: 0  Auftragskonto Buchungstag Valutadatum  \\\n",
       "0           0     89990201.0  28.07.2016  28.07.2016   \n",
       "1           1     89990201.0  27.07.2016  27.07.2016   \n",
       "2           2     89990201.0  21.07.2016  21.07.2016   \n",
       "3           3     89990201.0  20.07.2016  20.07.2016   \n",
       "4           4     89990201.0  18.07.2016  18.07.2016   \n",
       "\n",
       "               Buchungstext  \\\n",
       "0             Lohn / Gehalt   \n",
       "1                     Miete   \n",
       "2                   Bargeld   \n",
       "3  Lebensmittel / Getraenke   \n",
       "4            Spontanausgabe   \n",
       "\n",
       "                                    Verwendungszweck  \\\n",
       "0  Gehalt Adorsys GmbH & Co. KG End-To-End-Ref.: ...   \n",
       "1  Byladem1Sbt De12773501123456789889 Miete Beuth...   \n",
       "2  21.07/16.34Uhr Nuernberg All Eur 70,00 Geb.Eur...   \n",
       "3  2831 Edeka Neubauer Nuernb.//Nuernb 2016-07-20...   \n",
       "4                                             Amazon   \n",
       "\n",
       "  Beguenstigter/Zahlungspflichtiger             Kontonummer          BLZ  \\\n",
       "0             Adorsys GmbH & Co. KG              7807800780     25190001   \n",
       "1                      Georg Tasche  DE31251900019123456780  VOHADE2HXXX   \n",
       "2                           Bargeld              9999900780     25190001   \n",
       "3                     Kartenzahlung              9736000780     25190001   \n",
       "4                  neue Playstation              9988776655     25125100   \n",
       "\n",
       "    Betrag Waehrung             label  \n",
       "0  2000.00      EUR            income  \n",
       "1  -670.00      EUR            living  \n",
       "2   -70.00      EUR           private  \n",
       "3   -73.21      EUR  standardOfLiving  \n",
       "4     -363      EUR           leisure  "
      ]
     },
     "execution_count": 5,
     "metadata": {},
     "output_type": "execute_result"
    }
   ],
   "source": [
    "# Read the input data into a table\n",
    "df = pd.read_table('SAKI Exercise 1 - Transaction Classification - Data Set.csv', sep=';')\n",
    "# Put label column in a separat pandas dataframe\n",
    "labels = pd.DataFrame(data=df['label'])\n",
    "df.head()"
   ]
  },
  {
   "cell_type": "markdown",
   "id": "fca66325-9281-40cb-96e9-43fdd6111622",
   "metadata": {},
   "source": [
    "2. Extract the relevant features. In this case I choose 'Auftragskonto', 'Buchungstag', 'Buchungstext', 'Verwendungszweck', 'Kontonummer', 'BLZ' and 'Betrag'.\n",
    "Prepare and transform the features so that we can work with them"
   ]
  },
  {
   "cell_type": "code",
   "execution_count": 24,
   "id": "f3660669-a7e9-4289-a529-9ecbc4683c43",
   "metadata": {},
   "outputs": [],
   "source": [
    "# Feature Auftragskonto just us it direct as a feature\n",
    "features_auftragskonto = pd.get_dummies(df['Auftragskonto'])\n",
    "\n",
    "# Feature Buchungstag => extract day of the week and week of the month \n",
    "# convert column values to datetime\n",
    "buchungstag = pd.to_datetime(df['Buchungstag'])\n",
    "day_of_the_week = buchungstag.dt.dayofweek\n",
    "\n",
    "# calculate the week in the month and use this as an additional feature\n",
    "# (this is a relatively weak feature)\n",
    "week_of_the_month = pd.to_numeric(buchungstag.dt.day/7).apply(lambda x: math.ceil(x))\n",
    "day_of_the_week = pd.get_dummies(day_of_the_week)\n",
    "week_of_the_month = pd.get_dummies(week_of_the_month)\n",
    "# combine day of the week and week of the month as Buchungstag features\n",
    "features_buchungstag = pd.concat([week_of_the_month, day_of_the_week], axis=1)\n",
    "\n",
    "# Feature Buchungstext just use the whole word as a feature\n",
    "features_buchungstext = pd.get_dummies(df['Buchungstext'])\n",
    "\n",
    "# Bag of words for Verwendungszweck\n",
    "# Optional with german stopwords, but this did not bring any further improvement\n",
    "# import nltk\n",
    "# from nltk.corpus import stopwords\n",
    "# nltk.download('stopwords')\n",
    "# german_stop_words = stopwords.words('german')\n",
    "# count_vector = CountVectorizer(stop_words=german_stop_words)\n",
    "count_vector = CountVectorizer()\n",
    "use_case = df['Verwendungszweck']\n",
    "count_vector.fit(use_case)\n",
    "names = count_vector.get_feature_names()\n",
    "\n",
    "# frequency matrix of the words\n",
    "use_case_array = count_vector.transform(use_case).toarray()\n",
    "features_use_case = pd.DataFrame(data=use_case_array, columns=names)\n",
    "\n",
    "# Feature Kontonummer just us it direct as a feature\n",
    "features_kontonummer = pd.get_dummies(df['Kontonummer'])\n",
    "\n",
    "# Feature BLZ just us it direct as a feature\n",
    "features_blz =  pd.get_dummies(df['BLZ'])\n",
    "\n",
    "# Features Betrag => use the value and if it is a positive or negative value\n",
    "betraege = df['Betrag']\n",
    "str_betraege = betraege.apply(lambda x: x.replace(',','.'))\n",
    "betraege = pd.to_numeric(str_betraege)\n",
    "pos_neg = (betraege >= 0) * 1\n",
    "features_betrag = pd.get_dummies(pd.concat([df['Betrag'], pos_neg], axis=1))\n",
    "\n",
    "# combine all features to train and test the model:\n",
    "features = pd.concat([features_auftragskonto, features_buchungstag, features_buchungstext, features_use_case,\n",
    "                      features_kontonummer, features_blz, features_betrag], axis=1)"
   ]
  },
  {
   "cell_type": "markdown",
   "id": "767e1ae4-9a03-4f59-9685-0d08e228478d",
   "metadata": {},
   "source": [
    "3. Split data and train the model, scale features"
   ]
  },
  {
   "cell_type": "code",
   "execution_count": 25,
   "id": "be9e4341-bf86-4cfa-9bc1-31ef520ae469",
   "metadata": {},
   "outputs": [
    {
     "name": "stdout",
     "output_type": "stream",
     "text": [
      "['finance' 'finance' 'leisure' 'standardOfLiving' 'living' 'private'\n",
      " 'finance' 'standardOfLiving' 'living' 'private' 'private' 'leisure'\n",
      " 'finance' 'standardOfLiving' 'finance' 'leisure' 'standardOfLiving'\n",
      " 'standardOfLiving' 'finance' 'income' 'standardOfLiving' 'private'\n",
      " 'private' 'standardOfLiving' 'income' 'leisure' 'living' 'income'\n",
      " 'living' 'leisure' 'leisure' 'income' 'income' 'income'\n",
      " 'standardOfLiving' 'standardOfLiving' 'standardOfLiving'\n",
      " 'standardOfLiving' 'finance' 'standardOfLiving' 'leisure' 'leisure'\n",
      " 'standardOfLiving' 'standardOfLiving' 'leisure' 'private'\n",
      " 'standardOfLiving' 'living' 'leisure' 'private' 'leisure' 'income'\n",
      " 'leisure' 'finance' 'standardOfLiving' 'leisure' 'leisure' 'private'\n",
      " 'finance' 'leisure' 'finance' 'leisure' 'finance']\n"
     ]
    }
   ],
   "source": [
    "# Split data into test and training set\n",
    "x_train, x_test, y_train, y_test = train_test_split(features, labels, test_size=0.3, random_state=1)\n",
    "\n",
    "# Scale all the features \n",
    "# (scaling is not used for cross validation in the evaluation, only for the other metrics)\n",
    "# (scaling is optional, but bring slight performance increase ~1%)\n",
    "scalar = StandardScaler()\n",
    "x_train = scalar.fit_transform(x_train)\n",
    "x_test = scalar.transform(x_test)\n",
    "\n",
    "classifier = GaussianNB()\n",
    "classifier.fit(x_train, y_train.values.ravel())\n",
    "\n",
    "# Predict based on the data\n",
    "predictions = classifier.predict(x_test)\n",
    "print(predictions)"
   ]
  },
  {
   "cell_type": "markdown",
   "id": "58c99319-9679-4aa5-aa24-c7dc4831357a",
   "metadata": {},
   "source": [
    "4. Evaluate the model"
   ]
  },
  {
   "cell_type": "code",
   "execution_count": 30,
   "id": "a70406ba-dfa4-459e-bbfa-23faa76e9179",
   "metadata": {},
   "outputs": [
    {
     "name": "stdout",
     "output_type": "stream",
     "text": [
      "Accuracy score:  0.9682539682539683\n",
      "Precision score:  0.9692460317460317\n",
      "Recall score:  0.9682539682539683\n",
      "F1 score:  0.96816491907656\n",
      "Cross_val_score:  [0.92063492 0.92063492 0.95238095 0.93650794 0.96825397]\n",
      "Cross_val_score mean:  0.9396825396825397\n"
     ]
    }
   ],
   "source": [
    "# Evaluate the model with multiple metrics\n",
    "print('Accuracy score: ', format(accuracy_score(y_test, predictions)))\n",
    "\n",
    "print('Precision score: ', format(precision_score(y_test, predictions, average='weighted')))\n",
    "\n",
    "print('Recall score: ', format(recall_score(y_test, predictions, average='weighted')))\n",
    "\n",
    "print('F1 score: ', format(f1_score(y_test, predictions, average='weighted')))\n",
    "\n",
    "# Cross validation\n",
    "# ShuffleSplit for more precise cross validation\n",
    "cv = ShuffleSplit(n_splits=5, test_size=0.3, random_state=0)\n",
    "scores = cross_val_score(classifier, features, labels.values.ravel(), cv=cv)\n",
    "print('Cross_val_score: ', format (scores))\n",
    "print('Cross_val_score mean: ', scores.mean())"
   ]
  },
  {
   "cell_type": "markdown",
   "id": "24d217f8-0553-4082-829e-eed7343c1254",
   "metadata": {},
   "source": [
    "5. Visualize the results with a confusion matrix"
   ]
  },
  {
   "cell_type": "code",
   "execution_count": 27,
   "id": "ddfc2787-2385-4f49-9e76-c834f01bcc60",
   "metadata": {},
   "outputs": [
    {
     "data": {
      "image/png": "[encoded data removed]",
      "text/plain": [
       "<Figure size 432x288 with 2 Axes>"
      ]
     },
     "metadata": {
      "needs_background": "light"
     },
     "output_type": "display_data"
    }
   ],
   "source": [
    "# Plot a confucsion matrix based on the predictions\n",
    "skplt.metrics.plot_confusion_matrix(y_test, predictions, normalize=True)\n",
    "plt.xticks(rotation=90)\n",
    "plt.show()"
   ]
  }
 ],
 "metadata": {
  "kernelspec": {
   "display_name": "Python 3",
   "language": "python",
   "name": "python3"
  },
  "language_info": {
   "codemirror_mode": {
    "name": "ipython",
    "version": 3
   },
   "file_extension": ".py",
   "mimetype": "text/x-python",
   "name": "python",
   "nbconvert_exporter": "python",
   "pygments_lexer": "ipython3",
   "version": "3.9.1"
  }
 },
 "nbformat": 4,
 "nbformat_minor": 5
}
